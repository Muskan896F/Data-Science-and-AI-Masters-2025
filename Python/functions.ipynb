{
 "cells": [
  {
   "cell_type": "markdown",
   "id": "b8e4572c",
   "metadata": {},
   "source": [
    "### **even or odd**"
   ]
  },
  {
   "cell_type": "code",
   "execution_count": 1,
   "id": "49ebb17d",
   "metadata": {},
   "outputs": [],
   "source": [
    "def even_odd(num):\n",
    "    if num % 2 == 0:\n",
    "        print(num, \"is an even number\")\n",
    "    else:\n",
    "        print(num, \"is an odd number\")"
   ]
  },
  {
   "cell_type": "code",
   "execution_count": 2,
   "id": "c85ddc51",
   "metadata": {},
   "outputs": [
    {
     "name": "stdout",
     "output_type": "stream",
     "text": [
      "25 is an odd number\n"
     ]
    }
   ],
   "source": [
    "even_odd(25)"
   ]
  },
  {
   "cell_type": "code",
   "execution_count": 3,
   "id": "74319473",
   "metadata": {},
   "outputs": [
    {
     "name": "stdout",
     "output_type": "stream",
     "text": [
      "50 is an even number\n"
     ]
    }
   ],
   "source": [
    "even_odd(50)"
   ]
  },
  {
   "cell_type": "markdown",
   "id": "da2d8543",
   "metadata": {},
   "source": [
    "### **factorial**"
   ]
  },
  {
   "cell_type": "code",
   "execution_count": 4,
   "id": "e041e77f",
   "metadata": {},
   "outputs": [],
   "source": [
    "def fact_number(n):\n",
    "    fact = 1\n",
    "\n",
    "    for i in range(1,n+1):\n",
    "        fact = fact*i\n",
    "    return fact\n"
   ]
  },
  {
   "cell_type": "code",
   "execution_count": 5,
   "id": "cd3cde67",
   "metadata": {},
   "outputs": [
    {
     "data": {
      "text/plain": [
       "120"
      ]
     },
     "execution_count": 5,
     "metadata": {},
     "output_type": "execute_result"
    }
   ],
   "source": [
    "fact_number(5)"
   ]
  },
  {
   "cell_type": "code",
   "execution_count": 6,
   "id": "c64b4d7c",
   "metadata": {},
   "outputs": [
    {
     "data": {
      "text/plain": [
       "720"
      ]
     },
     "execution_count": 6,
     "metadata": {},
     "output_type": "execute_result"
    }
   ],
   "source": [
    "fact_number(6)"
   ]
  },
  {
   "cell_type": "markdown",
   "id": "689ce799",
   "metadata": {},
   "source": [
    "### **Sum of all natural numbers till the number provided**"
   ]
  },
  {
   "cell_type": "code",
   "execution_count": 7,
   "id": "b4ad0fdf",
   "metadata": {},
   "outputs": [],
   "source": [
    "def sum_natural(n):\n",
    "    num = 0\n",
    "\n",
    "    for i in range(1, n+1):\n",
    "        num = num+i\n",
    "\n",
    "    return num"
   ]
  },
  {
   "cell_type": "code",
   "execution_count": 8,
   "id": "526706f9",
   "metadata": {},
   "outputs": [
    {
     "data": {
      "text/plain": [
       "15"
      ]
     },
     "execution_count": 8,
     "metadata": {},
     "output_type": "execute_result"
    }
   ],
   "source": [
    "sum_natural(5)"
   ]
  },
  {
   "cell_type": "code",
   "execution_count": 9,
   "id": "47ea5826",
   "metadata": {},
   "outputs": [
    {
     "data": {
      "text/plain": [
       "36"
      ]
     },
     "execution_count": 9,
     "metadata": {},
     "output_type": "execute_result"
    }
   ],
   "source": [
    "sum_natural(8)"
   ]
  },
  {
   "cell_type": "code",
   "execution_count": 10,
   "id": "30af7e9b",
   "metadata": {},
   "outputs": [],
   "source": [
    "def funct_1(name,age):\n",
    "    print(\"name: \",name)\n",
    "    print(\"age: \",age)"
   ]
  },
  {
   "cell_type": "code",
   "execution_count": 11,
   "id": "c67c0e06",
   "metadata": {},
   "outputs": [
    {
     "name": "stdout",
     "output_type": "stream",
     "text": [
      "name:  Ravi\n",
      "age:  25\n"
     ]
    }
   ],
   "source": [
    "funct_1(\"Ravi\", 25)"
   ]
  },
  {
   "cell_type": "code",
   "execution_count": 13,
   "id": "c64af026",
   "metadata": {},
   "outputs": [],
   "source": [
    "def funct_1(name,age=26):\n",
    "    print(\"name: \",name)\n",
    "    print(\"age: \",age)"
   ]
  },
  {
   "cell_type": "code",
   "execution_count": 14,
   "id": "897ac9c9",
   "metadata": {},
   "outputs": [
    {
     "name": "stdout",
     "output_type": "stream",
     "text": [
      "name:  Muskan\n",
      "age:  26\n"
     ]
    }
   ],
   "source": [
    "funct_1(\"Muskan\")"
   ]
  },
  {
   "cell_type": "markdown",
   "id": "be43e502",
   "metadata": {},
   "source": [
    "### **Lambda Functions**"
   ]
  },
  {
   "cell_type": "markdown",
   "id": "16fb3b8b",
   "metadata": {},
   "source": [
    "#### **Create a lambda function that adds 10 to the number passed as an arguement, and print the result**"
   ]
  },
  {
   "cell_type": "code",
   "execution_count": 15,
   "id": "c54a2ae4",
   "metadata": {},
   "outputs": [],
   "source": [
    "x = lambda a: a+10"
   ]
  },
  {
   "cell_type": "code",
   "execution_count": 16,
   "id": "c5586179",
   "metadata": {},
   "outputs": [
    {
     "name": "stdout",
     "output_type": "stream",
     "text": [
      "15\n"
     ]
    }
   ],
   "source": [
    "print(x(5))"
   ]
  },
  {
   "cell_type": "code",
   "execution_count": 17,
   "id": "0ecf3fd4",
   "metadata": {},
   "outputs": [
    {
     "name": "stdout",
     "output_type": "stream",
     "text": [
      "20\n"
     ]
    }
   ],
   "source": [
    "print(x(10))"
   ]
  },
  {
   "cell_type": "markdown",
   "id": "3fb597e7",
   "metadata": {},
   "source": [
    "#### **Create a lambda function that checks number is even or odd**"
   ]
  },
  {
   "cell_type": "code",
   "execution_count": 21,
   "id": "6b8207d3",
   "metadata": {},
   "outputs": [],
   "source": [
    "x = lambda a: \" This is an even number \" if a % 2 == 0 else \"This is an Odd number\""
   ]
  },
  {
   "cell_type": "code",
   "execution_count": 22,
   "id": "9df3c228",
   "metadata": {},
   "outputs": [
    {
     "name": "stdout",
     "output_type": "stream",
     "text": [
      "This is an Odd number\n"
     ]
    }
   ],
   "source": [
    "print(x(101))"
   ]
  },
  {
   "cell_type": "code",
   "execution_count": 23,
   "id": "e46e4bd2",
   "metadata": {},
   "outputs": [
    {
     "name": "stdout",
     "output_type": "stream",
     "text": [
      " This is an even number \n"
     ]
    }
   ],
   "source": [
    "print(x(30))"
   ]
  },
  {
   "cell_type": "markdown",
   "id": "42fd401b",
   "metadata": {},
   "source": [
    "#### **Create a lambda function that adds two integers**"
   ]
  },
  {
   "cell_type": "code",
   "execution_count": 24,
   "id": "41b356f7",
   "metadata": {},
   "outputs": [],
   "source": [
    "x = lambda a,b: a+b"
   ]
  },
  {
   "cell_type": "code",
   "execution_count": 25,
   "id": "df0f5d06",
   "metadata": {},
   "outputs": [
    {
     "name": "stdout",
     "output_type": "stream",
     "text": [
      "9\n"
     ]
    }
   ],
   "source": [
    "print(x(4,5))"
   ]
  },
  {
   "cell_type": "code",
   "execution_count": 26,
   "id": "031bf378",
   "metadata": {},
   "outputs": [
    {
     "name": "stdout",
     "output_type": "stream",
     "text": [
      "30\n"
     ]
    }
   ],
   "source": [
    "print(x(10,20))"
   ]
  },
  {
   "cell_type": "code",
   "execution_count": 27,
   "id": "aab94723",
   "metadata": {},
   "outputs": [
    {
     "name": "stdout",
     "output_type": "stream",
     "text": [
      "The End\n"
     ]
    }
   ],
   "source": [
    "print(\"The End\")"
   ]
  }
 ],
 "metadata": {
  "kernelspec": {
   "display_name": "Python 3",
   "language": "python",
   "name": "python3"
  },
  "language_info": {
   "codemirror_mode": {
    "name": "ipython",
    "version": 3
   },
   "file_extension": ".py",
   "mimetype": "text/x-python",
   "name": "python",
   "nbconvert_exporter": "python",
   "pygments_lexer": "ipython3",
   "version": "3.10.0"
  }
 },
 "nbformat": 4,
 "nbformat_minor": 5
}
