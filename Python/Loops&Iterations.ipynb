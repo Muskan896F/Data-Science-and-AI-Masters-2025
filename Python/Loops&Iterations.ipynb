{
 "cells": [
  {
   "cell_type": "markdown",
   "id": "9fedbf2d",
   "metadata": {},
   "source": [
    "### **Loops**"
   ]
  },
  {
   "cell_type": "markdown",
   "id": "36b714b9",
   "metadata": {},
   "source": [
    "### **Check whether a number is even or odd**"
   ]
  },
  {
   "cell_type": "code",
   "execution_count": 3,
   "id": "6eccc8bc",
   "metadata": {},
   "outputs": [
    {
     "name": "stdout",
     "output_type": "stream",
     "text": [
      "101 is an odd number\n"
     ]
    }
   ],
   "source": [
    "x = 101\n",
    "if x % 2 == 0:\n",
    "    print(x, \"is an even number\")\n",
    "else:\n",
    "    print(x, \"is an odd number\")"
   ]
  },
  {
   "cell_type": "code",
   "execution_count": 4,
   "id": "06821b78",
   "metadata": {},
   "outputs": [
    {
     "name": "stdout",
     "output_type": "stream",
     "text": [
      "90 is an even number\n"
     ]
    }
   ],
   "source": [
    "x = 90\n",
    "if x % 2 == 0:\n",
    "    print(x, \"is an even number\")\n",
    "else:\n",
    "    print(x, \"is an odd number\")"
   ]
  },
  {
   "cell_type": "code",
   "execution_count": 6,
   "id": "65ee62e9",
   "metadata": {},
   "outputs": [
    {
     "name": "stdout",
     "output_type": "stream",
     "text": [
      "100 is an even number\n"
     ]
    }
   ],
   "source": [
    "x = int(input(\"Enter a number: \"))\n",
    "if x % 2 == 0:\n",
    "    print(x, \"is an even number\")\n",
    "else:\n",
    "    print(x, \"is an odd number\")"
   ]
  },
  {
   "cell_type": "markdown",
   "id": "51799939",
   "metadata": {},
   "source": [
    "### **Allow greater than 18 & less than 50 years of age**"
   ]
  },
  {
   "cell_type": "code",
   "execution_count": 7,
   "id": "6b56a518",
   "metadata": {},
   "outputs": [
    {
     "name": "stdout",
     "output_type": "stream",
     "text": [
      "Sorry you are not allowed in the party\n"
     ]
    }
   ],
   "source": [
    "x = int(input(\"Enter your age\"))\n",
    "if x < 18 or x > 50:\n",
    "    print(\"Sorry you are not allowed in the party\")\n",
    "else:\n",
    "    print(\"Welcome to the party\")"
   ]
  },
  {
   "cell_type": "markdown",
   "id": "7bd65968",
   "metadata": {},
   "source": [
    "### **Program to provide discounts and offer**"
   ]
  },
  {
   "cell_type": "code",
   "execution_count": 8,
   "id": "a1dad78a",
   "metadata": {},
   "outputs": [
    {
     "name": "stdout",
     "output_type": "stream",
     "text": [
      "You have won a voucher of 1000\n"
     ]
    }
   ],
   "source": [
    "shopping_amt = int(input(\"Input your billed amount\"))\n",
    "\n",
    "if shopping_amt >= 5000:\n",
    "    print(\"You have won a voucher of 1000\")\n",
    "elif shopping_amt >= 2500:\n",
    "    print(\"You have won avoucher of 500\")\n",
    "else:\n",
    "    print(\"OOPS No vouchers\")\n"
   ]
  },
  {
   "cell_type": "markdown",
   "id": "978cf32a",
   "metadata": {},
   "source": [
    "### **Iterations**"
   ]
  },
  {
   "cell_type": "code",
   "execution_count": 9,
   "id": "642a5c3d",
   "metadata": {},
   "outputs": [
    {
     "name": "stdout",
     "output_type": "stream",
     "text": [
      "10\n",
      "20\n",
      "30\n",
      "40\n",
      "50\n"
     ]
    }
   ],
   "source": [
    "## Iterate over a list of integers\n",
    "\n",
    "list = [10,20,30,40,50]\n",
    "for  i in list:\n",
    "    print(i)\n"
   ]
  },
  {
   "cell_type": "code",
   "execution_count": 10,
   "id": "1db17fe0",
   "metadata": {},
   "outputs": [
    {
     "name": "stdout",
     "output_type": "stream",
     "text": [
      "H\n",
      "e\n",
      "l\n",
      "l\n",
      "o\n"
     ]
    }
   ],
   "source": [
    "## Iterate over a string\n",
    "str = \"Hello\"\n",
    "for i in str:\n",
    "    print(i)"
   ]
  },
  {
   "cell_type": "code",
   "execution_count": 11,
   "id": "09fbdb0d",
   "metadata": {},
   "outputs": [
    {
     "name": "stdout",
     "output_type": "stream",
     "text": [
      "1\n",
      "2\n",
      "3\n",
      "4\n"
     ]
    }
   ],
   "source": [
    "## Iterate over a dictionary\n",
    "\n",
    "student_data = {1: [\"Sam\",25], 2: [\"Sharma\",22], 3:[\"Ravi\", 23],4: [\"Shalu\",30]}\n",
    "for i  in student_data:\n",
    "    print(i)"
   ]
  },
  {
   "cell_type": "code",
   "execution_count": 12,
   "id": "954a96e8",
   "metadata": {},
   "outputs": [
    {
     "name": "stdout",
     "output_type": "stream",
     "text": [
      "(1, ['Sam', 25])\n",
      "(2, ['Sharma', 22])\n",
      "(3, ['Ravi', 23])\n",
      "(4, ['Shalu', 30])\n"
     ]
    }
   ],
   "source": [
    "## Iterate over a dictionary\n",
    "\n",
    "student_data = {1: [\"Sam\",25], 2: [\"Sharma\",22], 3:[\"Ravi\", 23],4: [\"Shalu\",30]}\n",
    "for i  in student_data.items():\n",
    "    print(i)"
   ]
  },
  {
   "cell_type": "code",
   "execution_count": 14,
   "id": "e29872be",
   "metadata": {},
   "outputs": [
    {
     "name": "stdout",
     "output_type": "stream",
     "text": [
      "['Sam', 25]\n",
      "['Sharma', 22]\n",
      "['Ravi', 23]\n",
      "['Shalu', 30]\n"
     ]
    }
   ],
   "source": [
    "## Iterate over a dictionary\n",
    "\n",
    "student_data = {1: [\"Sam\",25], 2: [\"Sharma\",22], 3:[\"Ravi\", 23],4: [\"Shalu\",30]}\n",
    "for i , j in student_data.items():\n",
    "    print(j)"
   ]
  },
  {
   "cell_type": "code",
   "execution_count": 15,
   "id": "8b1442c5",
   "metadata": {},
   "outputs": [
    {
     "name": "stdout",
     "output_type": "stream",
     "text": [
      "1\n",
      "2\n",
      "3\n",
      "4\n"
     ]
    }
   ],
   "source": [
    "for i in student_data:\n",
    "    print(i)"
   ]
  },
  {
   "cell_type": "code",
   "execution_count": 16,
   "id": "301388ff",
   "metadata": {},
   "outputs": [
    {
     "name": "stdout",
     "output_type": "stream",
     "text": [
      "1\n",
      "2\n",
      "3\n",
      "4\n"
     ]
    }
   ],
   "source": [
    "## Iterate over a range of values\n",
    "\n",
    "for i in range(1,5):\n",
    "    print(i)"
   ]
  },
  {
   "cell_type": "markdown",
   "id": "00044e05",
   "metadata": {},
   "source": [
    "### **Comprehensions**"
   ]
  },
  {
   "cell_type": "code",
   "execution_count": 19,
   "id": "25ab7298",
   "metadata": {},
   "outputs": [
    {
     "name": "stdout",
     "output_type": "stream",
     "text": [
      "['Automobiles', 'Honda', 'Benz', 'Maruti', 'Kia']\n"
     ]
    }
   ],
   "source": [
    "list_1 = [\"Automobiles\", \"Honda\", \"Benz\", \"Maruti\", \"Kia\"]\n",
    "\n",
    "list_2 = []\n",
    "\n",
    "for i in list_1:\n",
    "    list_2.append(i)\n",
    "print(list_2)"
   ]
  },
  {
   "cell_type": "code",
   "execution_count": 20,
   "id": "831295da",
   "metadata": {},
   "outputs": [
    {
     "name": "stdout",
     "output_type": "stream",
     "text": [
      "[11, 5, 4, 6, 3]\n"
     ]
    }
   ],
   "source": [
    "list_1 = [\"Automobiles\", \"Honda\", \"Benz\", \"Maruti\", \"Kia\"]\n",
    "\n",
    "list_2 = []\n",
    "\n",
    "for i in list_1:\n",
    "    list_2.append(len(i))\n",
    "print(list_2)"
   ]
  },
  {
   "cell_type": "code",
   "execution_count": 21,
   "id": "3fc4c4cd",
   "metadata": {},
   "outputs": [
    {
     "name": "stdout",
     "output_type": "stream",
     "text": [
      "[11, 5, 4, 6, 3]\n"
     ]
    }
   ],
   "source": [
    "list_1 = [\"Automobiles\", \"Honda\", \"Benz\", \"Maruti\", \"Kia\"]\n",
    "\n",
    "list_2 = [len(i) for i in list_1]\n",
    "\n",
    "print(list_2)"
   ]
  },
  {
   "cell_type": "code",
   "execution_count": 22,
   "id": "668005c1",
   "metadata": {},
   "outputs": [
    {
     "data": {
      "text/plain": [
       "{'Automobiles': 11, 'Honda': 5, 'Benz': 4, 'Maruti': 6, 'Kia': 3}"
      ]
     },
     "execution_count": 22,
     "metadata": {},
     "output_type": "execute_result"
    }
   ],
   "source": [
    "list_1 = [\"Automobiles\", \"Honda\", \"Benz\", \"Maruti\", \"Kia\"]\n",
    "\n",
    "d = {i: len(i) for i in list_1}\n",
    "\n",
    "d"
   ]
  },
  {
   "cell_type": "code",
   "execution_count": 23,
   "id": "286ff5fc",
   "metadata": {},
   "outputs": [
    {
     "data": {
      "text/plain": [
       "{'Automobiles': 11, 'Honda': 5, 'Benz': 4, 'Maruti': 6, 'Kia': 3}"
      ]
     },
     "execution_count": 23,
     "metadata": {},
     "output_type": "execute_result"
    }
   ],
   "source": [
    "list_1 = [\"Automobiles\", \"Honda\", \"Benz\", \"Maruti\", \"Kia\"]\n",
    "\n",
    "d = {}\n",
    "\n",
    "for i in list_1:\n",
    "    d[i] = len(i)\n",
    "\n",
    "d"
   ]
  },
  {
   "cell_type": "code",
   "execution_count": 24,
   "id": "36cdfd28",
   "metadata": {},
   "outputs": [
    {
     "name": "stdout",
     "output_type": "stream",
     "text": [
      "The End\n"
     ]
    }
   ],
   "source": [
    "print(\"The End\")"
   ]
  }
 ],
 "metadata": {
  "kernelspec": {
   "display_name": "Python 3",
   "language": "python",
   "name": "python3"
  },
  "language_info": {
   "codemirror_mode": {
    "name": "ipython",
    "version": 3
   },
   "file_extension": ".py",
   "mimetype": "text/x-python",
   "name": "python",
   "nbconvert_exporter": "python",
   "pygments_lexer": "ipython3",
   "version": "3.10.0"
  }
 },
 "nbformat": 4,
 "nbformat_minor": 5
}
